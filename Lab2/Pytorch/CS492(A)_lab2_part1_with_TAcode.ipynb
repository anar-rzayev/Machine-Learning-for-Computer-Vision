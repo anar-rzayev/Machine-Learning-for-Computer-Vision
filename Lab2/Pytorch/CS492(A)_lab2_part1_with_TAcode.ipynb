{
  "nbformat": 4,
  "nbformat_minor": 0,
  "metadata": {
    "colab": {
      "name": "CS492(E)_lab2_part1_with_TAcode.ipynb",
      "provenance": [],
      "collapsed_sections": []
    },
    "kernelspec": {
      "display_name": "Python 3",
      "language": "python",
      "name": "python3"
    },
    "language_info": {
      "codemirror_mode": {
        "name": "ipython",
        "version": 3
      },
      "file_extension": ".py",
      "mimetype": "text/x-python",
      "name": "python",
      "nbconvert_exporter": "python",
      "pygments_lexer": "ipython3",
      "version": "3.6.6"
    }
  },
  "cells": [
    {
      "cell_type": "markdown",
      "metadata": {
        "id": "2e_ni-Uj8-lW"
      },
      "source": [
        "# Linear Regression in PyTorch\n",
        "\n",
        "This exercise takes you through the fundamental linear regression model from a number of different angles. First we consider an analytic analysis and then we continue to consider how to solve the same problem using numerical methods. This lab also serves and an introduction to the PyTorch toolkit which will be useful for a variety of machine learning tasks in the future and is used by Google to solve massive machine learning problems on their clusters.\n",
        "\n",
        "The linear regression model forms the basis for a whole host of models - if you are comfortable with the fundamental approaches we take here, there will be a whole range of extensions, advances and applications available to you in the future."
      ]
    },
    {
      "cell_type": "markdown",
      "metadata": {
        "id": "bgZ2H0hP8-lY"
      },
      "source": [
        "For this lab exercise there are places where you are expected to enter your own code. Every place you have to add code is indicated by\n",
        "\n",
        "`# Add your code here ..`\n",
        "\n",
        "`# ***********************************************************`\n",
        "\n",
        "with instructions above the code block."
      ]
    },
    {
      "cell_type": "code",
      "metadata": {
        "id": "7CONBRC48-lZ"
      },
      "source": [
        "%matplotlib inline\n",
        "import numpy as np\n",
        "\n",
        "# A new one for this lab!\n",
        "import torch\n",
        "\n",
        "from sklearn import datasets as ds\n",
        "\n",
        "import matplotlib.pyplot as plt"
      ],
      "execution_count": null,
      "outputs": []
    },
    {
      "cell_type": "code",
      "metadata": {
        "id": "H2Kfh5248-lf",
        "outputId": "40472b66-9e08-42de-e6f7-02a3aed9e7d1",
        "colab": {
          "base_uri": "https://localhost:8080/"
        }
      },
      "source": [
        "boston = ds.load_boston()\n",
        "print('#Data:{}, #Features:{}'.format(boston.data.shape[0], boston.data.shape[1]))\n",
        "\n",
        "x_raw = boston.data[:,np.argwhere(boston.feature_names == 'RM')[0,0]]\n",
        "print('After selection - #Data:{}, #Features:{}'.format(x_raw.shape[0], x_raw.shape[1] if len(x_raw.shape) > 1 else 1))\n",
        "\n",
        "y_raw = boston.target\n",
        "print('Target shape:{}'.format(y_raw.shape))"
      ],
      "execution_count": null,
      "outputs": [
        {
          "output_type": "stream",
          "text": [
            "#Data:506, #Features:13\n",
            "After selection - #Data:506, #Features:1\n",
            "Target shape:(506,)\n"
          ],
          "name": "stdout"
        }
      ]
    },
    {
      "cell_type": "markdown",
      "metadata": {
        "id": "cJmhwgTK8-lh"
      },
      "source": [
        "## Boston House Prices Dataset\n",
        "A descroption of the dataset used is provided here.\n",
        "\n",
        "Data Set Characteristics:  \n",
        "    :Number of Instances: 506 \n",
        "\n",
        "    :Number of Attributes: 13 numeric/categorical predictive\n",
        "    \n",
        "    :Median Value (attribute 14) is usually the target\n",
        "\n",
        "    :Attribute Information (in order):\n",
        "        - CRIM     per capita crime rate by town\n",
        "        - ZN       proportion of residential land zoned for lots over 25,000 sq.ft.\n",
        "        - INDUS    proportion of non-retail business acres per town\n",
        "        - CHAS     Charles River dummy variable (= 1 if tract bounds river; 0 otherwise)\n",
        "        - NOX      nitric oxides concentration (parts per 10 million)\n",
        "        - RM       average number of rooms per dwelling\n",
        "        - AGE      proportion of owner-occupied units built prior to 1940\n",
        "        - DIS      weighted distances to five Boston employment centres\n",
        "        - RAD      index of accessibility to radial highways\n",
        "        - TAX      full-value property-tax rate per $10,000\n",
        "        - PTRATIO  pupil-teacher ratio by town\n",
        "        - B        1000(Bk - 0.63)^2 where Bk is the proportion of blacks by town\n",
        "        - LSTAT    % lower status of the population\n",
        "        - MEDV     Median value of owner-occupied homes in $1000's\n",
        "\n",
        "    :Missing Attribute Values: None\n",
        "\n",
        "    :Creator: Harrison, D. and Rubinfeld, D.L.\n",
        "\n",
        "This is a copy of UCI ML housing dataset.\n",
        "http://archive.ics.uci.edu/ml/datasets/Housing\n",
        "\n",
        "\n",
        "This dataset was taken from the StatLib library which is maintained at Carnegie Mellon University.\n",
        "\n",
        "The Boston house-price data of Harrison, D. and Rubinfeld, D.L. 'Hedonic\n",
        "prices and the demand for clean air', J. Environ. Economics & Management,\n",
        "vol.5, 81-102, 1978.   Used in Belsley, Kuh & Welsch, 'Regression diagnostics\n",
        "...', Wiley, 1980.   N.B. Various transformations are used in the table on\n",
        "pages 244-261 of the latter.\n",
        "\n",
        "The Boston house-price data has been used in many machine learning papers that address regression\n",
        "problems.   \n",
        "     \n",
        "### References\n",
        "\n",
        "   - Belsley, Kuh & Welsch, 'Regression diagnostics: Identifying Influential Data and Sources of Collinearity', Wiley, 1980. 244-261.\n",
        "   - Quinlan,R. (1993). Combining Instance-Based and Model-Based Learning. In Proceedings on the Tenth International Conference of Machine Learning, 236-243, University of Massachusetts, Amherst. Morgan Kaufmann.\n",
        "   - many more! (see http://archive.ics.uci.edu/ml/datasets/Housing)"
      ]
    },
    {
      "cell_type": "markdown",
      "metadata": {
        "id": "LnU2GCqn8-li"
      },
      "source": [
        "## Preparing the data\n",
        "\n",
        "We are going to look at the relationship between the \"average number of rooms per dwelling\" and median house price in the Boston dataset. First let us partition the data into a training and test split. We are going for 60% training and 40% testing."
      ]
    },
    {
      "cell_type": "code",
      "metadata": {
        "id": "fiu0FJ228-lj",
        "outputId": "75363d3c-3f62-42b0-8e8d-a94a2fbb8544",
        "colab": {
          "base_uri": "https://localhost:8080/"
        }
      },
      "source": [
        "total_count = x_raw.shape[0]\n",
        "\n",
        "split = int(total_count * 0.6)\n",
        "\n",
        "# Shuffle the data to avoid any ordering bias..\n",
        "np.random.seed(0)\n",
        "shuffle = np.random.permutation(total_count)\n",
        "\n",
        "x = x_raw[shuffle]\n",
        "y = y_raw[shuffle]\n",
        "\n",
        "x_train_unnormalised = x[:split]\n",
        "y_train_unnormalised = y[:split]\n",
        "\n",
        "x_test_unnormalised = x[split:]\n",
        "y_test_unnormalised = y[split:]\n",
        "\n",
        "print('Training set size:', x_train_unnormalised.shape[0])\n",
        "print('Test set size:', x_test_unnormalised.shape[0])\n",
        "print(\"First Train X: \", x_train_unnormalised[0])\n",
        "print(\"First Train Y: \", y_train_unnormalised[0])"
      ],
      "execution_count": null,
      "outputs": [
        {
          "output_type": "stream",
          "text": [
            "Training set size: 303\n",
            "Test set size: 203\n",
            "First Train X:  6.333\n",
            "First Train Y:  22.6\n"
          ],
          "name": "stdout"
        }
      ]
    },
    {
      "cell_type": "markdown",
      "metadata": {
        "id": "myGnoSn48-ll"
      },
      "source": [
        "## Data Visualisation\n",
        "\n",
        "To allow for easy visualisation as you progress through the task we are using a single dimensional data set. Both the input $x$ and output $y$ are scalars so we can plot them on a standard scatter plot."
      ]
    },
    {
      "cell_type": "code",
      "metadata": {
        "id": "7Joy6cAQ8-ll",
        "outputId": "78328db9-0278-4c39-93e9-12ac61ff4383",
        "colab": {
          "base_uri": "https://localhost:8080/",
          "height": 531
        }
      },
      "source": [
        "# You can use this function to plot the data and then add your own plots on top..\n",
        "def plot_data(x, y):\n",
        "    plt.figure(figsize=[10,8])\n",
        "    plt.plot(x, y, 'o')\n",
        "    plt.grid(True)\n",
        "    plt.xlabel('Average number rooms per dwelling')\n",
        "    plt.ylabel('Mean value of home')\n",
        "\n",
        "plot_data(x_train_unnormalised, y_train_unnormalised)\n",
        "plt.title('Plot of the Training Data')"
      ],
      "execution_count": null,
      "outputs": [
        {
          "output_type": "execute_result",
          "data": {
            "text/plain": [
              "Text(0.5, 1.0, 'Plot of the Training Data')"
            ]
          },
          "metadata": {
            "tags": []
          },
          "execution_count": 4
        },
        {
          "output_type": "display_data",
          "data": {
            "image/png": "[encoded data removed]",
            "text/plain": [
              "<Figure size 720x576 with 1 Axes>"
            ]
          },
          "metadata": {
            "tags": [],
            "needs_background": "light"
          }
        }
      ]
    },
    {
      "cell_type": "markdown",
      "metadata": {
        "id": "7ytU5uD18-ln"
      },
      "source": [
        "### Task 1:\n",
        "\n",
        "Write a function that normalises a vector of values. It should output a corresponding vector where the values have a mean of zero and a standard deviation of 1. Note that you should only perform an affine transformation of the data (i.e. a linear scaling and a fixed offset). This means that you must find $a$ and $b$ for $v_i = a u_i + b$ where $u$ is the input data and $v$ is the normalised output data.\n",
        "\n",
        "Your function should return the normalising constants as well as the normalised data.\n",
        "\n",
        "Write a second function that removes the normalisation and returns the data to its original values.\n",
        "\n",
        "Check that passing both `x_train` and `y_train` through both functions returns the vectors to their original values.\n",
        "\n",
        "*Hints:*\n",
        "- You might want to look at `np.all()` for the Boolean check that they return to their values.\n",
        "- When checking that floating point values are equal up to nummerical precision (e.g. rounding errors in the computations) you can use the `np.isclose()` function.\n",
        "- You can use the `assert()` command to guarantee that a statement is `True` before the program continues.\n",
        "\n",
        "*Points to consider:* \n",
        "- Why might it be sensible to normalise the data in the fashion described?\n",
        "- Considering that we are about to perform Linear Regression, why might we not want to perform a more involved normalisation process?"
      ]
    },
    {
      "cell_type": "code",
      "metadata": {
        "id": "JI00CJ1n8-ln",
        "outputId": "0df66f13-6232-41be-a1b8-c909a434fa30",
        "colab": {
          "base_uri": "https://localhost:8080/",
          "height": 531
        }
      },
      "source": [
        "def normalise_data(x_unnormalised):\n",
        "    # Add your code here..\n",
        "    # ************************************************************\n",
        "    # ...\n",
        "    \n",
        "    # TA code begin\n",
        "    # Z-score normalization\n",
        "    mean = np.mean(x_unnormalised)\n",
        "    std = np.std(x_unnormalised)\n",
        "    x_normalised = np.array([(el-mean)/std for el in x_unnormalised])\n",
        "    assert np.isclose(np.mean(x_normalised), 0.0) and np.isclose(np.std(x_normalised),1.0)\n",
        "    a = 1/std\n",
        "    b = -mean/std\n",
        "    # TA end\n",
        "    \n",
        "    return x_normalised, a, b\n",
        "\n",
        "def unnormalise_data(x_normalised, a, b):\n",
        "    x_unnormalised = (x_normalised-b)*a\n",
        "    return x_unnormalised\n",
        "\n",
        "x_train, x_norm_a, x_norm_b = normalise_data(x_train_unnormalised)\n",
        "y_train, y_norm_a, y_norm_b = normalise_data(y_train_unnormalised)\n",
        "\n",
        "x_test, _, _ = normalise_data(x_test_unnormalised)\n",
        "y_test, _, _ = normalise_data(y_test_unnormalised)\n",
        "\n",
        "# Add your code here to check that the unnormaliseding the \n",
        "# training data returns to their original values..\n",
        "# ************************************************************\n",
        "# ...\n",
        "\n",
        "# Plot the data to make sure they are normalised..\n",
        "plot_data(x_train, y_train)\n",
        "plt.title('Plot of the (Normalised) Training Data')"
      ],
      "execution_count": null,
      "outputs": [
        {
          "output_type": "execute_result",
          "data": {
            "text/plain": [
              "Text(0.5, 1.0, 'Plot of the (Normalised) Training Data')"
            ]
          },
          "metadata": {
            "tags": []
          },
          "execution_count": 5
        },
        {
          "output_type": "display_data",
          "data": {
            "image/png": "[encoded data removed]",
            "text/plain": [
              "<Figure size 720x576 with 1 Axes>"
            ]
          },
          "metadata": {
            "tags": [],
            "needs_background": "light"
          }
        }
      ]
    },
    {
      "cell_type": "markdown",
      "metadata": {
        "id": "u7TrLEk-8-lp"
      },
      "source": [
        "## The Linear Regression Model\n",
        "\n",
        "In linear regression we are trying to fit a linear model to the data of the form\n",
        "\n",
        "\\begin{align}\n",
        "y &= w x + c\n",
        "\\end{align}\n",
        "\n",
        "where $w$ and $c$ are parameters to be learned that take the input data $x$ to the output data $y$. Once this model has been learned, we can use the parameters to predict the values of the output that would correspond to new values of the input.\n",
        "\n",
        "In order to determine the parameters, we need an objective function that we seek to optimise: this function returns a scalar value for all possible parameter values and we seek to change the parameters until the best scalar value is obtained.\n",
        "\n",
        "For linear regression, we usually take the objective as one which minimises the squared error; this is known as a linear least squares problem.\n",
        "\n",
        "*Aside: Think about what this means in terms of a model for the data when you have $y = f(x) + \\eta$ with $f(x)$ as a linear function $f(x) = w x + c$ and $\\eta$ as iid Gaussian noise.*\n",
        "\n",
        "Therefore our objective is given by the sum of squared differences between the true value of $y_i$ and the value estimated by our model $w x_i + c$.\n",
        "\n",
        "\\begin{align}\n",
        "E(w,c) &= \\sum_{i=0}^{N-1} \\big(y_i - f(x_i) \\big)^2 \\\\\n",
        "    &= \\sum_{i=0}^{N-1} \\big(y_i - (w x_i + c) \\big)^2 \\\\\n",
        "    &= \\sum_{i=0}^{N-1} \\big(y_i - w x_i - c \\big)^2\n",
        "\\end{align}\n",
        "\n"
      ]
    },
    {
      "cell_type": "markdown",
      "metadata": {
        "id": "DNNH1epL8-lp"
      },
      "source": [
        "## Task 2\n",
        "\n",
        "Write a function that calculates the least squared error on the training data for a particular value of the parameters $w$ and $c$."
      ]
    },
    {
      "cell_type": "code",
      "metadata": {
        "id": "ICa61DBK8-lq",
        "outputId": "d070c4c3-975b-4e79-aa7c-0eeede08a012",
        "colab": {
          "base_uri": "https://localhost:8080/"
        }
      },
      "source": [
        "\n",
        "def least_squares_error(x, y, w, c):\n",
        "    # Add code to calcuate the squared_error = E(w,c)..\n",
        "    # ************************************************************\n",
        "    # ...\n",
        "    # TA code begin\n",
        "    pred_y = np.array([w*x_i+c for x_i in x])\n",
        "    squared_error = np.sum(np.square(y-pred_y))\n",
        "    return squared_error\n",
        "    # TA end\n",
        "\n",
        "print('Squared error for w = 1.5, c = 0.5 is ', \n",
        "      least_squares_error(x_train, y_train, w=1.5, c=0.5))"
      ],
      "execution_count": null,
      "outputs": [
        {
          "output_type": "stream",
          "text": [
            "Squared error for w = 1.5, c = 0.5 is  450.52041703162615\n"
          ],
          "name": "stdout"
        }
      ]
    },
    {
      "cell_type": "markdown",
      "metadata": {
        "id": "Qeo2Xk8H8-lr"
      },
      "source": [
        "## Analytic Solution\n",
        "\n",
        "In the case of linear regression, we can find an analytic solution to this problem by finding stationary point of the objective function. We do this by evaluating the partial derivatives of the objective wrt each parameter in turn and setting them to zero. If we can then find a solution to these simultaneous equations, we have found an optimal setting for the parameters.\n",
        "\n",
        "For $w$ we have:\n",
        "\n",
        "\\begin{align}\n",
        "\\frac{\\partial E}{\\partial w} \n",
        "    &= \\frac{\\partial}{\\partial w}\\sum_{i=0}^{N-1} \\big(y_i - w x_i - c \\big)^2 \\\\\n",
        "    &= \\sum_{i=0}^{N-1} \\frac{\\partial}{\\partial w} \\big(y_i - w x_i - c \\big)^2 \\\\\n",
        "    &= \\sum_{i=0}^{N-1} 2 \\big(y_i - w x_i - c \\big) \\frac{\\partial}{\\partial w} \\big(y_i - w x_i - c \\big) \\\\\n",
        "    &= \\sum_{i=0}^{N-1} 2 \\big(y_i - w x_i - c \\big) \\big(- x_i \\big) \\\\\n",
        "    &= \\sum_{i=0}^{N-1} 2 x_i (w x_i + c - y_i) \\\\\n",
        "\\end{align}\n",
        "\n",
        "For $c$ we have:\n",
        "\n",
        "\\begin{align}\n",
        "\\frac{\\partial E}{\\partial c} \n",
        "    &= \\frac{\\partial}{\\partial c}\\sum_{i=0}^{N-1} \\big(y_i - w x_i - c \\big)^2 \\\\\n",
        "    &= \\sum_{i=0}^{N-1} \\frac{\\partial}{\\partial c} \\big(y_i - w x_i - c \\big)^2 \\\\\n",
        "    &= \\sum_{i=0}^{N-1} 2 \\big(y_i - w x_i - c \\big) \\frac{\\partial}{\\partial c} \\big(y_i - w x_i - c \\big) \\\\\n",
        "    &= \\sum_{i=0}^{N-1} 2 \\big(y_i - w x_i - c \\big) \\big(- 1 \\big) \\\\\n",
        "    &= \\sum_{i=0}^{N-1} 2 (w x_i + c - y_i) \\\\\n",
        "\\end{align}\n",
        "\n",
        "Now setting $\\frac{\\partial E}{\\partial w} = 0$:\n",
        "\n",
        "\\begin{align}\n",
        "\\Rightarrow \\sum_{i=0}^{N-1} x_i (w x_i + c - y_i) &= 0 \\\\\n",
        "w \\sum_{i=0}^{N-1} (x_i)^2 + c \\sum_{i=0}^{N-1} (x_i) - \\sum_{i=0}^{N-1} (x_i y_i) &= 0 \\\\\n",
        "\\Rightarrow A w + B c - C &= 0\n",
        "\\end{align}\n",
        "\n",
        "with $A = \\sum_{i=0}^{N-1} (x_i)^2$, $B = \\sum_{i=0}^{N-1} (x_i)$ and $C = \\sum_{i=0}^{N-1} (x_i y_i)$.\n",
        "\n",
        "Now setting $\\frac{\\partial E}{\\partial c} = 0$:\n",
        "\n",
        "\\begin{align}\n",
        "\\Rightarrow \\sum_{i=0}^{N-1} (w x_i + c - y_i) &= 0 \\\\\n",
        "w \\sum_{i=0}^{N-1} (x_i) + N c - \\sum_{i=0}^{N-1} (y_i) &= 0 \\\\\n",
        "\\Rightarrow B w + N c - D &= 0\n",
        "\\end{align}\n",
        "\n",
        "with $D = \\sum_{i=0}^{N-1} (y_i)$.\n",
        "\n",
        "Combining these two:\n",
        "\n",
        "\\begin{align}\n",
        "\\Rightarrow c = \\frac{1}{N} (D - B w) \\\\\n",
        "\\Rightarrow A w + \\frac{B}{N} (D - B w) - C = 0 \\\\\n",
        "\\Rightarrow w \\left(A - \\frac{B^2}{N}\\right) = \\left(C - \\frac{BD}{N}\\right) \\\\\n",
        "\\Rightarrow w = \\frac{CN - BD}{AN - B^2} \\\\\n",
        "\\Rightarrow c = \\frac{1}{N} \\left(D - B \\frac{\\left(CN - BD\\right)}{\\left(AN - B^2\\right)}\\right) \\\\\n",
        "\\Rightarrow c = \\frac{1}{N} \\left(\\frac{D \\left(AN - B^2\\right) - B C N + B^2 D}{\\left(AN - B^2\\right)}\\right) \\\\\n",
        "\\Rightarrow c = \\frac{AD - BC}{AN - B^2}\n",
        "\\end{align}"
      ]
    },
    {
      "cell_type": "markdown",
      "metadata": {
        "id": "b5w5iJxy8-ls"
      },
      "source": [
        "## Task 3\n",
        "\n",
        "Write a function using numpy that takes as input `x_train` and `y_train` and outputs the optimal $w$ and $c$ parameters for least squares linear regression.\n",
        "\n",
        "Confirm that your results are reasonable by plotting the resulting linear function on the training graph as well as the predicted values for the test set on a separate graph."
      ]
    },
    {
      "cell_type": "code",
      "metadata": {
        "id": "4PyBcDl38-ls",
        "outputId": "b96c9650-c177-497d-f1b1-9b14c40c9e15",
        "colab": {
          "base_uri": "https://localhost:8080/",
          "height": 1000
        }
      },
      "source": [
        "def least_squares_analytic_solution(x, y):\n",
        "    # Add code to calcuate the optimal w and c ..\n",
        "    # ************************************************************\n",
        "    # ...\n",
        "\n",
        "    # TA's code\n",
        "    x,y=np.array(x),np.array(y)\n",
        "    A = np.sum(x**2)\n",
        "    B = np.sum(x)\n",
        "    C = np.sum(x*y)\n",
        "    D = np.sum(y)\n",
        "    assert len(x)==len(y)\n",
        "    N = len(x)\n",
        "    w = (C*N-B*D)/(A*N-B*B)\n",
        "    c = (A*D-B*C)/(A*N-B*B)\n",
        "    # TA end\n",
        "    \n",
        "    return w, c\n",
        "\n",
        "w_opt, c_opt = least_squares_analytic_solution(x_train, y_train)\n",
        "\n",
        "print('Analytic solution:')\n",
        "print('Analytic w = ', w_opt)\n",
        "print('Analytic c = ', c_opt)\n",
        "\n",
        "plot_data(x_train, y_train)\n",
        "plt.title('Analytic Linear Regression (Training Data)')\n",
        "# Add code to plot a line showing your solution \n",
        "# for w and c..\n",
        "# ************************************************************\n",
        "# ...\n",
        "\n",
        "plot_data(x_test, y_test)\n",
        "plt.title('Analytic Linear Regression (Testing Data)')\n",
        "# Add code to plot your predictions for the x_test data\n",
        "# for comparison against y_test..\n",
        "# ************************************************************\n",
        "# ...\n",
        "\n",
        "print('Mean least squares error on TRAINING data = ',\n",
        "     least_squares_error(x_train, y_train, w_opt, c_opt) / x_train.shape[0])\n",
        "\n",
        "print('Mean least squares error on TEST data = ',\n",
        "     least_squares_error(x_test, y_test, w_opt, c_opt) / x_test.shape[0])"
      ],
      "execution_count": null,
      "outputs": [
        {
          "output_type": "stream",
          "text": [
            "Analytic solution:\n",
            "Analytic w =  0.6710446457297836\n",
            "Analytic c =  1.2195548195136355e-15\n",
            "Mean least squares error on TRAINING data =  0.5496990834373895\n",
            "Mean least squares error on TEST data =  0.477446115537434\n"
          ],
          "name": "stdout"
        },
        {
          "output_type": "display_data",
          "data": {
            "image/png": "[encoded data removed]",
            "text/plain": [
              "<Figure size 720x576 with 1 Axes>"
            ]
          },
          "metadata": {
            "tags": [],
            "needs_background": "light"
          }
        },
        {
          "output_type": "display_data",
          "data": {
            "image/png": "[encoded data removed]",
            "text/plain": [
              "<Figure size 720x576 with 1 Axes>"
            ]
          },
          "metadata": {
            "tags": [],
            "needs_background": "light"
          }
        }
      ]
    },
    {
      "cell_type": "markdown",
      "metadata": {
        "id": "6zU5V-tI8-lu"
      },
      "source": [
        "## Pytorch Optimisation\n",
        "\n",
        "In the previous task we looked at an analytic solution to the least square problem. We now pretend that we could not solve the problem analytically. Although this is not true for this case, the additional of extensions to the linear regression model (for example to improve robustness, adding feature selection or handling non-linear data) can mean that it is no longer possible to find an analytic solution and numerical optimisation must be used."
      ]
    },
    {
      "cell_type": "markdown",
      "metadata": {
        "id": "UFaG_JHw8-lu"
      },
      "source": [
        "## Task 4\n",
        "\n",
        "Add the torch expressions to the following code to calculate the least squares error using torch and check that it calculates the same value as the numpy version.\n"
      ]
    },
    {
      "cell_type": "code",
      "metadata": {
        "id": "fYqvzaPg8-lv",
        "outputId": "742bd549-969d-421c-e06b-2dc62f11b85f",
        "colab": {
          "base_uri": "https://localhost:8080/"
        }
      },
      "source": [
        "from torch import nn\n",
        "\n",
        "# Initial values for optimisation..\n",
        "w_initial_guess = 1.5\n",
        "c_initial_guess = 0.5\n",
        "\n",
        "# Constants to hold the training data..\n",
        "t_x_train = torch.FloatTensor(x_train)\n",
        "t_y_train = torch.FloatTensor(y_train)\n",
        "\n",
        "# Initialize our model with the predefined parameters\n",
        "linear_model = nn.Linear(in_features=1,out_features=1,bias=True)\n",
        "linear_model.weight.data.fill_(w_initial_guess)\n",
        "linear_model.bias.data.fill_(c_initial_guess)\n",
        "print(linear_model)\n",
        "print(linear_model.weight)\n",
        "print(linear_model.bias)\n",
        "\n",
        "\n",
        "# Add your code here to calculate t_least_squares_error..\n",
        "# ************************************************************\n",
        "# ...\n",
        "def t_least_squares_error(model,x,y):\n",
        "\n",
        "    # TA's code\n",
        "    # unsqueeze: Add one dimension to x\n",
        "    x = torch.unsqueeze(x,1)\n",
        "    y = torch.unsqueeze(y,1)\n",
        "    pred_y = model(x)\n",
        "    mse_func = nn.MSELoss(reduction='sum')\n",
        "    error = mse_func(pred_y,y)\n",
        "    # TA end\n",
        "\n",
        "    return error\n",
        "\n",
        "torch_result = t_least_squares_error(linear_model, t_x_train, t_y_train)\n",
        "\n",
        "# Check with the result from your previous function..\n",
        "numpy_result = least_squares_error(x_train, y_train, \n",
        "                                   w=w_initial_guess, \n",
        "                                   c=c_initial_guess)\n",
        "\n",
        "print('Tensorflow least squares error = ', torch_result)\n",
        "print('numpy least squares error = ', numpy_result)\n",
        "\n",
        "# This should pass if they are the same to nummerical precision!\n",
        "assert(np.isclose(torch_result.detach().numpy(), numpy_result))"
      ],
      "execution_count": null,
      "outputs": [
        {
          "output_type": "stream",
          "text": [
            "Linear(in_features=1, out_features=1, bias=True)\n",
            "Parameter containing:\n",
            "tensor([[1.5000]], requires_grad=True)\n",
            "Parameter containing:\n",
            "tensor([0.5000], requires_grad=True)\n",
            "Tensorflow least squares error =  tensor(450.5204, grad_fn=<MseLossBackward>)\n",
            "numpy least squares error =  450.52041703162615\n"
          ],
          "name": "stdout"
        }
      ]
    },
    {
      "cell_type": "markdown",
      "metadata": {
        "id": "hdITvtF28-lw"
      },
      "source": [
        "## Task 5\n",
        "\n",
        "Check that the gradients from torch are correct by writing numpy code to calculate the value of the derivatives from the analytic expressions (derived previously):\n",
        "\n",
        "\\begin{align}\n",
        "\\frac{\\partial E}{\\partial w} \n",
        "    &= \\sum_{i=0}^{N-1} 2 x_i (w x_i + c - y_i) \\\\\n",
        "\\end{align}\n",
        "\n",
        "\\begin{align}\n",
        "\\frac{\\partial E}{\\partial c} \n",
        "    &= \\sum_{i=0}^{N-1} 2 (w x_i + c - y_i) \\\\\n",
        "\\end{align}"
      ]
    },
    {
      "cell_type": "code",
      "metadata": {
        "id": "U26SHbL28-lw",
        "outputId": "66aa44be-719f-4768-92f0-7224ec20fdf0",
        "colab": {
          "base_uri": "https://localhost:8080/"
        }
      },
      "source": [
        "# Gradient for weight and bias in Torch model\n",
        "torch_result.backward()\n",
        "torch_grad_w = linear_model.weight.grad\n",
        "torch_grad_c = linear_model.bias.grad\n",
        "\n",
        "\n",
        "def calc_gradients_for_least_squares(x, y, w, c):\n",
        "    # Add your code to evalute the partial derivatives here\n",
        "    # ************************************************************\n",
        "    # ...\n",
        "\n",
        "    # TA's code\n",
        "    grad_w = np.sum(2 * x * (w*x + c - y))\n",
        "    grad_c = np.sum(2 * (w*x+c-y))\n",
        "    # TA end\n",
        "\n",
        "\n",
        "    return grad_w, grad_c\n",
        "\n",
        "numpy_grad_w, numpy_grad_c = calc_gradients_for_least_squares(x_train, \n",
        "                                                              y_train, \n",
        "                                                              w_initial_guess, \n",
        "                                                              c_initial_guess)\n",
        "\n",
        "print('Analytic gradient wrt w = ', numpy_grad_w)\n",
        "print('Analytic gradient wrt c = ', numpy_grad_c)\n",
        "\n",
        "# This should pass if they are the same to nummerical precision!\n",
        "assert(np.isclose(torch_grad_w, numpy_grad_w))\n",
        "assert(np.isclose(torch_grad_c, numpy_grad_c))"
      ],
      "execution_count": null,
      "outputs": [
        {
          "output_type": "stream",
          "text": [
            "Analytic gradient wrt w =  502.34694468775075\n",
            "Analytic gradient wrt c =  302.99999999999847\n"
          ],
          "name": "stdout"
        }
      ]
    },
    {
      "cell_type": "markdown",
      "metadata": {
        "id": "SG4ptVYi8-ly"
      },
      "source": [
        "## Gradient Descent in PyTorch\n",
        "\n",
        "If all has gone well, the gradients should be the same and you can use PyTorch to find the solution to the optimisation.\n",
        "\n",
        "**Run the following block of code to see the Torch optimisation running with your least square error function from above!**\n",
        "\n",
        "*Aside: Investigate what happens as you change the `learning_rate` parameter as well as the `num_iterations`. Can we guarantee that tensorflow will always return the same result as the analytic solution? What might be happening if not?*"
      ]
    },
    {
      "cell_type": "code",
      "metadata": {
        "id": "7XmTDze18-ly",
        "outputId": "9cdacbee-c058-4da5-fcdf-31f5f9465542",
        "colab": {
          "base_uri": "https://localhost:8080/"
        }
      },
      "source": [
        "# Create a gradient descent optimiser that uses a\n",
        "# certain step size (learning_rate)..\n",
        "learning_rate = 0.001\n",
        "num_iteration = 10\n",
        "\n",
        "# Define the optimizer\n",
        "optimizer = torch.optim.Adam(linear_model.parameters(), lr=learning_rate)\n",
        "\n",
        "# Run a number of iterations of gradient descent..\n",
        "for iter in range(num_iteration):\n",
        "    # At each iteration evaluate the minimize_operation\n",
        "    # to perform the gradient descent step and also\n",
        "    # keep track of the current value..\n",
        "    loss = t_least_squares_error(linear_model, t_x_train,t_y_train) / t_x_train.shape[0]\n",
        "    loss.backward()\n",
        "    optimizer.step()\n",
        "    optimizer.zero_grad()\n",
        "    print(f\"iter {iter}, MSE  {loss}\")\n",
        "\n",
        "# Compare the results by gradient descent and analytic solution\n",
        "print(\"== Training End ==\")\n",
        "print(\"\\nGradient Descent solution:\")\n",
        "print(f\"Final w: {linear_model.weight}\")\n",
        "print(f\"Final c: {linear_model.bias}\")\n",
        "\n",
        "print('\\nAnalytic solution:')\n",
        "print('Analytic w = ', w_opt)\n",
        "print('Analytic c = ', c_opt)"
      ],
      "execution_count": null,
      "outputs": [
        {
          "output_type": "stream",
          "text": [
            "iter 0, MSE  1.4868661165237427\n",
            "iter 1, MSE  1.4842098951339722\n",
            "iter 2, MSE  1.4824262857437134\n",
            "iter 3, MSE  1.4810431003570557\n",
            "iter 4, MSE  1.4799058437347412\n",
            "iter 5, MSE  1.4789406061172485\n",
            "iter 6, MSE  1.4781042337417603\n",
            "iter 7, MSE  1.4773699045181274\n",
            "iter 8, MSE  1.4767186641693115\n",
            "iter 9, MSE  1.4761362075805664\n",
            "== Training End ==\n",
            "\n",
            "Gradient Descent solution:\n",
            "Final w: Parameter containing:\n",
            "tensor([[1.4958]], requires_grad=True)\n",
            "Final c: Parameter containing:\n",
            "tensor([0.4958], requires_grad=True)\n",
            "\n",
            "Analytic solution:\n",
            "Analytic w =  0.6710446457297836\n",
            "Analytic c =  1.2195548195136355e-15\n"
          ],
          "name": "stdout"
        }
      ]
    },
    {
      "cell_type": "markdown",
      "metadata": {
        "id": "PUeCiJfG8-lz"
      },
      "source": [
        "## Task 6\n",
        "\n",
        "You are now going to implement your own version of gradient descent (the process that tensorflow is providing to perform optimisation). The good news is that you already have the numpy functions to calculate both the least squares error (`least_squares_error`) and the gradients wrt the parameters (`calc_gradients_for_least_squares`).\n",
        "\n",
        "Starting from the same initial values as tensorflow (`w_initial_guess`, `c_initial_guess`) write an iterative algorithm for gradient descent. At each iteration it should perform the following steps:\n",
        "\n",
        "- Evaluate and save the squared error for the current parameters\n",
        "- Calculate the gradients wrt w and c for the current parameters\n",
        "- Update the parameters for w and c my moving in the direction of the negative current proportional to the current step size\n",
        "\n",
        "**The code below should run with these three additions. Once they are working, move on to the following.**\n",
        "\n",
        "Under this algorithm, the squared error should decrease at each iteration. If it is not decreasing then either there is a bug in the code (!) or the step size is too large. Add a check that makes sure the squared error always decreases and if it fails to decrease, decrease the step size and run the iteration again.\n",
        "\n",
        "**Try running this code starting with `current_step_size = 0.1`.**\n",
        "\n",
        "You can improve your answer by checking to see if you should stop iterating. If the change in the squared error between successive iterations is very small then one of the following is true. Either the step size is too small (not changing the parameters sufficiently) or the values have converged to their optimal values. If you cannot find a step size that creates a deacrease in the squared error then you have probably converged and can stop performing iterations.\n",
        "\n",
        "*Hint: you can exit a `for` loop early with the `break` command.*\n",
        "\n",
        "**Try running this code starting with `num_iterations = 200`.**"
      ]
    },
    {
      "cell_type": "code",
      "metadata": {
        "id": "2_lZijB38-lz",
        "outputId": "3479a77f-6c59-4abe-f798-eea9a453c401",
        "colab": {
          "base_uri": "https://localhost:8080/"
        }
      },
      "source": [
        "# Keep track of parameter values over iterations..\n",
        "w_current = w_initial_guess\n",
        "c_current = c_initial_guess\n",
        "\n",
        "# Keep track of the error..\n",
        "E_current = least_squares_error(x_train, y_train, w_current, c_current)/x_train.shape[0]\n",
        "\n",
        "# Keep track of the step size..\n",
        "current_step_size = 0.001\n",
        "\n",
        "num_iterations = 200\n",
        "\n",
        "# TA begin\n",
        "error_list = [E_current]\n",
        "# TA end\n",
        "\n",
        "for iteration in range(num_iterations):\n",
        "    \n",
        "    # Add code to evaluate the gradients..\n",
        "    # ************************************************************\n",
        "    # ...\n",
        "    # TA begin\n",
        "    numpy_grad_w, numpy_grad_c = calc_gradients_for_least_squares(x_train, \n",
        "                                                              y_train, \n",
        "                                                              w_current, \n",
        "                                                              c_current)\n",
        "    numpy_grad_w, numpy_grad_c = numpy_grad_w/x_train.shape[0] ,numpy_grad_c/x_train.shape[0]\n",
        "    # TA end\n",
        "\n",
        "    # Add code to take a step in the direction of the negative\n",
        "    # gradient proportional to the step size..\n",
        "    # ************************************************************\n",
        "    # ...\n",
        "    #TA begin\n",
        "    w_new = w_current - current_step_size * numpy_grad_w\n",
        "    c_new = w_current - current_step_size * numpy_grad_c\n",
        "    #TA End\n",
        "\n",
        "    \n",
        "    # Add code to evaluate and remember the squared error..\n",
        "    # ************************************************************\n",
        "    # ...\n",
        "    \n",
        "    # TA begin\n",
        "    E_new = least_squares_error(x_train, y_train, w_current, c_current)/x_train.shape[0]\n",
        "    error_list.append(E_new)\n",
        "    # TA end\n",
        "\n",
        "    # Add code to check that error is decreasing and reduce step\n",
        "    # size if not..\n",
        "    # ************************************************************\n",
        "    # ...\n",
        "    \n",
        "    #TA begin\n",
        "    # If the current error is larger than the previous one, reduce the step\n",
        "    # by multiplying 0.5\n",
        "    if error_list[-1]>error_list[-2]:\n",
        "        current_step_size *= 0.5\n",
        "    #TA end\n",
        "\n",
        "    # Add code to check for convergence and terminate\n",
        "    # the loop if converged..\n",
        "    # ************************************************************\n",
        "    # ...\n",
        "\n",
        "    # TA begin\n",
        "    # If the error doesn't decrease more than three iteration, assume that\n",
        "    # the model converge.\n",
        "    if len(error_list)>=3:\n",
        "        if error_list[-3]<error_list[-2]<error_list[-1]:\n",
        "            print(\"Training End\")\n",
        "            break\n",
        "    # TA End\n",
        "    \n",
        "    print('iteration %4d, E = %f, w = %f, c = %f' % \n",
        "          (iteration, E_current, w_new, c_new))\n",
        "    \n",
        "    # Take the step\n",
        "    w_current = w_new\n",
        "    c_current = c_new\n",
        "    E_current = E_new\n",
        "\n",
        "print('\\nAfter gradient descent optimisation:')\n",
        "print('Optimised w = ', w_current)\n",
        "print('Optimised c = ', c_current)\n",
        "\n",
        "print('\\nAnalytic solution:')\n",
        "print('Analytic w = ', w_opt)\n",
        "print('Analytic c = ', c_opt)"
      ],
      "execution_count": null,
      "outputs": [
        {
          "output_type": "stream",
          "text": [
            "iteration    0, E = 1.486866, w = 1.498342, c = 1.499000\n",
            "iteration    1, E = 1.486866, w = 1.496687, c = 1.495344\n",
            "iteration    2, E = 3.481121, w = 1.495862, c = 1.495192\n",
            "iteration    3, E = 3.467439, w = 1.495037, c = 1.494367\n",
            "iteration    4, E = 3.465622, w = 1.494213, c = 1.493543\n",
            "iteration    5, E = 3.461794, w = 1.493390, c = 1.492719\n",
            "iteration    6, E = 3.457975, w = 1.492568, c = 1.491897\n",
            "iteration    7, E = 3.454162, w = 1.491746, c = 1.491076\n",
            "iteration    8, E = 3.450356, w = 1.490925, c = 1.490255\n",
            "iteration    9, E = 3.446556, w = 1.490105, c = 1.489435\n",
            "iteration   10, E = 3.442763, w = 1.489286, c = 1.488616\n",
            "iteration   11, E = 3.438976, w = 1.488468, c = 1.487798\n",
            "iteration   12, E = 3.435196, w = 1.487651, c = 1.486980\n",
            "iteration   13, E = 3.431422, w = 1.486834, c = 1.486164\n",
            "iteration   14, E = 3.427655, w = 1.486018, c = 1.485348\n",
            "iteration   15, E = 3.423894, w = 1.485203, c = 1.484533\n",
            "iteration   16, E = 3.420140, w = 1.484389, c = 1.483719\n",
            "iteration   17, E = 3.416392, w = 1.483576, c = 1.482905\n",
            "iteration   18, E = 3.412650, w = 1.482763, c = 1.482093\n",
            "iteration   19, E = 3.408915, w = 1.481952, c = 1.481281\n",
            "iteration   20, E = 3.405186, w = 1.481141, c = 1.480470\n",
            "iteration   21, E = 3.401463, w = 1.480331, c = 1.479660\n",
            "iteration   22, E = 3.397747, w = 1.479521, c = 1.478851\n",
            "iteration   23, E = 3.394037, w = 1.478713, c = 1.478042\n",
            "iteration   24, E = 3.390334, w = 1.477905, c = 1.477235\n",
            "iteration   25, E = 3.386636, w = 1.477098, c = 1.476428\n",
            "iteration   26, E = 3.382946, w = 1.476292, c = 1.475622\n",
            "iteration   27, E = 3.379261, w = 1.475487, c = 1.474817\n",
            "iteration   28, E = 3.375583, w = 1.474683, c = 1.474012\n",
            "iteration   29, E = 3.371911, w = 1.473879, c = 1.473209\n",
            "iteration   30, E = 3.368245, w = 1.473076, c = 1.472406\n",
            "iteration   31, E = 3.364585, w = 1.472274, c = 1.471604\n",
            "iteration   32, E = 3.360932, w = 1.471473, c = 1.470802\n",
            "iteration   33, E = 3.357285, w = 1.470672, c = 1.470002\n",
            "iteration   34, E = 3.353644, w = 1.469873, c = 1.469202\n",
            "iteration   35, E = 3.350009, w = 1.469074, c = 1.468404\n",
            "iteration   36, E = 3.346381, w = 1.468276, c = 1.467606\n",
            "iteration   37, E = 3.342759, w = 1.467479, c = 1.466808\n",
            "iteration   38, E = 3.339143, w = 1.466682, c = 1.466012\n",
            "iteration   39, E = 3.335533, w = 1.465887, c = 1.465216\n",
            "iteration   40, E = 3.331929, w = 1.465092, c = 1.464421\n",
            "iteration   41, E = 3.328331, w = 1.464298, c = 1.463627\n",
            "iteration   42, E = 3.324740, w = 1.463504, c = 1.462834\n",
            "iteration   43, E = 3.321154, w = 1.462712, c = 1.462042\n",
            "iteration   44, E = 3.317575, w = 1.461920, c = 1.461250\n",
            "iteration   45, E = 3.314002, w = 1.461129, c = 1.460459\n",
            "iteration   46, E = 3.310435, w = 1.460339, c = 1.459669\n",
            "iteration   47, E = 3.306874, w = 1.459550, c = 1.458880\n",
            "iteration   48, E = 3.303319, w = 1.458762, c = 1.458091\n",
            "iteration   49, E = 3.299770, w = 1.457974, c = 1.457303\n",
            "iteration   50, E = 3.296227, w = 1.457187, c = 1.456517\n",
            "iteration   51, E = 3.292690, w = 1.456401, c = 1.455730\n",
            "iteration   52, E = 3.289159, w = 1.455615, c = 1.454945\n",
            "iteration   53, E = 3.285634, w = 1.454831, c = 1.454160\n",
            "iteration   54, E = 3.282115, w = 1.454047, c = 1.453377\n",
            "iteration   55, E = 3.278603, w = 1.453264, c = 1.452594\n",
            "iteration   56, E = 3.275096, w = 1.452482, c = 1.451811\n",
            "iteration   57, E = 3.271595, w = 1.451700, c = 1.451030\n",
            "iteration   58, E = 3.268100, w = 1.450920, c = 1.450249\n",
            "iteration   59, E = 3.264611, w = 1.450140, c = 1.449469\n",
            "iteration   60, E = 3.261127, w = 1.449361, c = 1.448690\n",
            "iteration   61, E = 3.257650, w = 1.448582, c = 1.447912\n",
            "iteration   62, E = 3.254179, w = 1.447805, c = 1.447135\n",
            "iteration   63, E = 3.250714, w = 1.447028, c = 1.446358\n",
            "iteration   64, E = 3.247254, w = 1.446252, c = 1.445582\n",
            "iteration   65, E = 3.243800, w = 1.445477, c = 1.444807\n",
            "iteration   66, E = 3.240353, w = 1.444703, c = 1.444032\n",
            "iteration   67, E = 3.236911, w = 1.443929, c = 1.443259\n",
            "iteration   68, E = 3.233474, w = 1.443156, c = 1.442486\n",
            "iteration   69, E = 3.230044, w = 1.442384, c = 1.441714\n",
            "iteration   70, E = 3.226620, w = 1.441613, c = 1.440942\n",
            "iteration   71, E = 3.223201, w = 1.440842, c = 1.440172\n",
            "iteration   72, E = 3.219788, w = 1.440072, c = 1.439402\n",
            "iteration   73, E = 3.216381, w = 1.439303, c = 1.438633\n",
            "iteration   74, E = 3.212980, w = 1.438535, c = 1.437865\n",
            "iteration   75, E = 3.209584, w = 1.437767, c = 1.437097\n",
            "iteration   76, E = 3.206195, w = 1.437001, c = 1.436330\n",
            "iteration   77, E = 3.202811, w = 1.436235, c = 1.435564\n",
            "iteration   78, E = 3.199432, w = 1.435470, c = 1.434799\n",
            "iteration   79, E = 3.196060, w = 1.434705, c = 1.434035\n",
            "iteration   80, E = 3.192693, w = 1.433941, c = 1.433271\n",
            "iteration   81, E = 3.189332, w = 1.433179, c = 1.432508\n",
            "iteration   82, E = 3.185977, w = 1.432416, c = 1.431746\n",
            "iteration   83, E = 3.182627, w = 1.431655, c = 1.430985\n",
            "iteration   84, E = 3.179283, w = 1.430894, c = 1.430224\n",
            "iteration   85, E = 3.175944, w = 1.430135, c = 1.429464\n",
            "iteration   86, E = 3.172612, w = 1.429375, c = 1.428705\n",
            "iteration   87, E = 3.169285, w = 1.428617, c = 1.427947\n",
            "iteration   88, E = 3.165963, w = 1.427860, c = 1.427189\n",
            "iteration   89, E = 3.162647, w = 1.427103, c = 1.426432\n",
            "iteration   90, E = 3.159337, w = 1.426347, c = 1.425676\n",
            "iteration   91, E = 3.156032, w = 1.425591, c = 1.424921\n",
            "iteration   92, E = 3.152733, w = 1.424837, c = 1.424166\n",
            "iteration   93, E = 3.149440, w = 1.424083, c = 1.423413\n",
            "iteration   94, E = 3.146152, w = 1.423330, c = 1.422660\n",
            "iteration   95, E = 3.142870, w = 1.422578, c = 1.421907\n",
            "iteration   96, E = 3.139593, w = 1.421826, c = 1.421156\n",
            "iteration   97, E = 3.136322, w = 1.421075, c = 1.420405\n",
            "iteration   98, E = 3.133056, w = 1.420325, c = 1.419655\n",
            "iteration   99, E = 3.129796, w = 1.419576, c = 1.418906\n",
            "iteration  100, E = 3.126541, w = 1.418828, c = 1.418157\n",
            "iteration  101, E = 3.123292, w = 1.418080, c = 1.417409\n",
            "iteration  102, E = 3.120048, w = 1.417333, c = 1.416662\n",
            "iteration  103, E = 3.116810, w = 1.416586, c = 1.415916\n",
            "iteration  104, E = 3.113577, w = 1.415841, c = 1.415171\n",
            "iteration  105, E = 3.110350, w = 1.415096, c = 1.414426\n",
            "iteration  106, E = 3.107128, w = 1.414352, c = 1.413682\n",
            "iteration  107, E = 3.103912, w = 1.413609, c = 1.412938\n",
            "iteration  108, E = 3.100701, w = 1.412866, c = 1.412196\n",
            "iteration  109, E = 3.097496, w = 1.412124, c = 1.411454\n",
            "iteration  110, E = 3.094295, w = 1.411383, c = 1.410713\n",
            "iteration  111, E = 3.091101, w = 1.410643, c = 1.409973\n",
            "iteration  112, E = 3.087911, w = 1.409903, c = 1.409233\n",
            "iteration  113, E = 3.084728, w = 1.409165, c = 1.408494\n",
            "iteration  114, E = 3.081549, w = 1.408426, c = 1.407756\n",
            "iteration  115, E = 3.078376, w = 1.407689, c = 1.407019\n",
            "iteration  116, E = 3.075208, w = 1.406952, c = 1.406282\n",
            "iteration  117, E = 3.072046, w = 1.406216, c = 1.405546\n",
            "iteration  118, E = 3.068888, w = 1.405481, c = 1.404811\n",
            "iteration  119, E = 3.065737, w = 1.404747, c = 1.404076\n",
            "iteration  120, E = 3.062590, w = 1.404013, c = 1.403343\n",
            "iteration  121, E = 3.059449, w = 1.403280, c = 1.402610\n",
            "iteration  122, E = 3.056313, w = 1.402548, c = 1.401878\n",
            "iteration  123, E = 3.053182, w = 1.401816, c = 1.401146\n",
            "iteration  124, E = 3.050057, w = 1.401086, c = 1.400415\n",
            "iteration  125, E = 3.046937, w = 1.400356, c = 1.399685\n",
            "iteration  126, E = 3.043822, w = 1.399626, c = 1.398956\n",
            "iteration  127, E = 3.040712, w = 1.398898, c = 1.398227\n",
            "iteration  128, E = 3.037608, w = 1.398170, c = 1.397500\n",
            "iteration  129, E = 3.034509, w = 1.397443, c = 1.396772\n",
            "iteration  130, E = 3.031415, w = 1.396716, c = 1.396046\n",
            "iteration  131, E = 3.028326, w = 1.395991, c = 1.395320\n",
            "iteration  132, E = 3.025243, w = 1.395266, c = 1.394595\n",
            "iteration  133, E = 3.022165, w = 1.394542, c = 1.393871\n",
            "iteration  134, E = 3.019092, w = 1.393818, c = 1.393148\n",
            "iteration  135, E = 3.016024, w = 1.393095, c = 1.392425\n",
            "iteration  136, E = 3.012961, w = 1.392373, c = 1.391703\n",
            "iteration  137, E = 3.009903, w = 1.391652, c = 1.390982\n",
            "iteration  138, E = 3.006851, w = 1.390931, c = 1.390261\n",
            "iteration  139, E = 3.003803, w = 1.390211, c = 1.389541\n",
            "iteration  140, E = 3.000761, w = 1.389492, c = 1.388822\n",
            "iteration  141, E = 2.997724, w = 1.388774, c = 1.388103\n",
            "iteration  142, E = 2.994692, w = 1.388056, c = 1.387386\n",
            "iteration  143, E = 2.991665, w = 1.387339, c = 1.386669\n",
            "iteration  144, E = 2.988643, w = 1.386623, c = 1.385952\n",
            "iteration  145, E = 2.985627, w = 1.385907, c = 1.385237\n",
            "iteration  146, E = 2.982615, w = 1.385192, c = 1.384522\n",
            "iteration  147, E = 2.979608, w = 1.384478, c = 1.383808\n",
            "iteration  148, E = 2.976607, w = 1.383765, c = 1.383094\n",
            "iteration  149, E = 2.973610, w = 1.383052, c = 1.382382\n",
            "iteration  150, E = 2.970619, w = 1.382340, c = 1.381670\n",
            "iteration  151, E = 2.967633, w = 1.381629, c = 1.380958\n",
            "iteration  152, E = 2.964651, w = 1.380918, c = 1.380248\n",
            "iteration  153, E = 2.961675, w = 1.380208, c = 1.379538\n",
            "iteration  154, E = 2.958703, w = 1.379499, c = 1.378829\n",
            "iteration  155, E = 2.955737, w = 1.378791, c = 1.378120\n",
            "iteration  156, E = 2.952775, w = 1.378083, c = 1.377413\n",
            "iteration  157, E = 2.949819, w = 1.377376, c = 1.376705\n",
            "iteration  158, E = 2.946867, w = 1.376670, c = 1.375999\n",
            "iteration  159, E = 2.943921, w = 1.375964, c = 1.375294\n",
            "iteration  160, E = 2.940979, w = 1.375259, c = 1.374589\n",
            "iteration  161, E = 2.938042, w = 1.374555, c = 1.373884\n",
            "iteration  162, E = 2.935111, w = 1.373851, c = 1.373181\n",
            "iteration  163, E = 2.932184, w = 1.373148, c = 1.372478\n",
            "iteration  164, E = 2.929262, w = 1.372446, c = 1.371776\n",
            "iteration  165, E = 2.926345, w = 1.371745, c = 1.371075\n",
            "iteration  166, E = 2.923433, w = 1.371044, c = 1.370374\n",
            "iteration  167, E = 2.920525, w = 1.370344, c = 1.369674\n",
            "iteration  168, E = 2.917623, w = 1.369645, c = 1.368975\n",
            "iteration  169, E = 2.914725, w = 1.368946, c = 1.368276\n",
            "iteration  170, E = 2.911833, w = 1.368248, c = 1.367578\n",
            "iteration  171, E = 2.908945, w = 1.367551, c = 1.366881\n",
            "iteration  172, E = 2.906062, w = 1.366855, c = 1.366184\n",
            "iteration  173, E = 2.903184, w = 1.366159, c = 1.365489\n",
            "iteration  174, E = 2.900310, w = 1.365464, c = 1.364793\n",
            "iteration  175, E = 2.897442, w = 1.364769, c = 1.364099\n",
            "iteration  176, E = 2.894578, w = 1.364076, c = 1.363405\n",
            "iteration  177, E = 2.891719, w = 1.363383, c = 1.362712\n",
            "iteration  178, E = 2.888865, w = 1.362690, c = 1.362020\n",
            "iteration  179, E = 2.886016, w = 1.361999, c = 1.361328\n",
            "iteration  180, E = 2.883171, w = 1.361308, c = 1.360637\n",
            "iteration  181, E = 2.880331, w = 1.360617, c = 1.359947\n",
            "iteration  182, E = 2.877496, w = 1.359928, c = 1.359257\n",
            "iteration  183, E = 2.874666, w = 1.359239, c = 1.358569\n",
            "iteration  184, E = 2.871840, w = 1.358551, c = 1.357880\n",
            "iteration  185, E = 2.869019, w = 1.357863, c = 1.357193\n",
            "iteration  186, E = 2.866203, w = 1.357176, c = 1.356506\n",
            "iteration  187, E = 2.863391, w = 1.356490, c = 1.355820\n",
            "iteration  188, E = 2.860585, w = 1.355805, c = 1.355134\n",
            "iteration  189, E = 2.857783, w = 1.355120, c = 1.354450\n",
            "iteration  190, E = 2.854985, w = 1.354436, c = 1.353766\n",
            "iteration  191, E = 2.852192, w = 1.353753, c = 1.353082\n",
            "iteration  192, E = 2.849404, w = 1.353070, c = 1.352400\n",
            "iteration  193, E = 2.846621, w = 1.352388, c = 1.351718\n",
            "iteration  194, E = 2.843842, w = 1.351707, c = 1.351036\n",
            "iteration  195, E = 2.841068, w = 1.351026, c = 1.350356\n",
            "iteration  196, E = 2.838299, w = 1.350346, c = 1.349676\n",
            "iteration  197, E = 2.835534, w = 1.349667, c = 1.348996\n",
            "iteration  198, E = 2.832773, w = 1.348988, c = 1.348318\n",
            "iteration  199, E = 2.830018, w = 1.348310, c = 1.347640\n",
            "\n",
            "After gradient descent optimisation:\n",
            "Optimised w =  1.3483100509095671\n",
            "Optimised c =  1.3476396766381087\n",
            "\n",
            "Analytic solution:\n",
            "Analytic w =  0.6710446457297836\n",
            "Analytic c =  1.2195548195136355e-15\n"
          ],
          "name": "stdout"
        }
      ]
    },
    {
      "cell_type": "markdown",
      "metadata": {
        "id": "7OcJccETh5Z7"
      },
      "source": [
        "This tutorial is adapted from BMVA Summer School 2018, Neill D. F. Campbell (with input from Tom Haines and Mihaela Rosca). You can find a copy of it under the repository https://github.com/ndfcampbell/bmva_summer_school"
      ]
    },
    {
      "cell_type": "code",
      "metadata": {
        "id": "h5E0W13kFJQh"
      },
      "source": [
        ""
      ],
      "execution_count": null,
      "outputs": []
    }
  ]
}